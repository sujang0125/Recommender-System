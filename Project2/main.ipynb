{
  "nbformat": 4,
  "nbformat_minor": 0,
  "metadata": {
    "colab": {
      "provenance": []
    },
    "kernelspec": {
      "name": "python3",
      "display_name": "Python 3"
    },
    "language_info": {
      "name": "python"
    }
  },
  "cells": [
    {
      "cell_type": "code",
      "source": [
        "# module import\n",
        "import numpy as np\n",
        "import pandas as pd\n",
        "from sklearn.metrics.pairwise import cosine_similarity\n",
        "from sklearn.preprocessing import normalize, MinMaxScaler\n",
        "import math\n"
      ],
      "metadata": {
        "id": "zshSy3SKI5Gz"
      },
      "execution_count": 76,
      "outputs": []
    },
    {
      "cell_type": "markdown",
      "source": [
        "# Task 1) Item based Collaborative Filtering"
      ],
      "metadata": {
        "id": "Tw7TbOquIUQv"
      }
    },
    {
      "cell_type": "code",
      "source": [
        "d = pd.read_csv(\"./data/ratings_train.csv\")\n",
        "user = d[\"userId\"]\n",
        "movie = d[\"movieId\"]\n",
        "rating = d[\"rating\"]\n",
        "\n",
        "movie_set = sorted(set(movie))\n",
        "movie_index, index_movie = {}, {}\n",
        "user_set = sorted(set(user))\n",
        "print(len(movie_set))\n",
        "print(len(user_set))\n",
        "\n",
        "# item-user sparse matrix 생성\n",
        "iu_sparse_mat = []\n",
        "for i, m in enumerate(movie_set):\n",
        "  tmp = []\n",
        "  rated_user = d[d[\"movieId\"]==m] # 영화 m에 rating한 유저를 찾음\n",
        "  rated_user_set = set(rated_user[\"userId\"])\n",
        "  for u in range(1, max(user_set)+1):\n",
        "    if u in rated_user_set:\n",
        "      tmp.append(rated_user[rated_user[\"userId\"]==u][\"rating\"].item()) # user u가 movie m에 준 rating\n",
        "    else:\n",
        "      tmp.append(0) # user u가 movie m에 rating하지 않았으면 0\n",
        "  iu_sparse_mat.append(tmp) # tmp는 영화 m에 대한 user rating matrix가 됨\n",
        "  movie_index[m] = i\n",
        "  index_movie[i] = m\n",
        "iu_sparse_mat = np.array(iu_sparse_mat)\n",
        "print(iu_sparse_mat.shape)"
      ],
      "metadata": {
        "colab": {
          "base_uri": "https://localhost:8080/"
        },
        "id": "bxWPfCJVILaY",
        "outputId": "c6c50576-662f-403c-ef49-6216c7a8ad15"
      },
      "execution_count": 77,
      "outputs": [
        {
          "output_type": "stream",
          "name": "stdout",
          "text": [
            "7357\n",
            "547\n",
            "(7357, 671)\n"
          ]
        }
      ]
    },
    {
      "cell_type": "markdown",
      "source": [
        "### movie - movie 사이의 cosine similarity 계산"
      ],
      "metadata": {
        "id": "Xz7bn3nV4QUk"
      }
    },
    {
      "cell_type": "code",
      "source": [
        "movie_cossim = cosine_similarity(iu_sparse_mat, iu_sparse_mat)\n",
        "print(movie_cossim.shape)"
      ],
      "metadata": {
        "colab": {
          "base_uri": "https://localhost:8080/"
        },
        "id": "uNxTAI3ykn0T",
        "outputId": "a3efc7f8-13df-41b1-8de9-0bc70baf6a10"
      },
      "execution_count": 78,
      "outputs": [
        {
          "output_type": "stream",
          "name": "stdout",
          "text": [
            "(7357, 7357)\n"
          ]
        }
      ]
    },
    {
      "cell_type": "markdown",
      "source": [
        "### 추천 점수 계산"
      ],
      "metadata": {
        "id": "NVursSpz4ZB_"
      }
    },
    {
      "cell_type": "code",
      "source": [
        "user_rating = {}\n",
        "user_sim = {} # shape=[n(특정 userid가 rating한 영화 수), # movies]\n",
        "# user_rating = []\n",
        "for u, m, r in zip(user, movie, rating):\n",
        "  if u in user_rating:\n",
        "    user_rating[u].append((m, r)) # user u가 준 movie와 rating pair\n",
        "  else:\n",
        "    user_rating[u] = [(m, r)]\n",
        "print(user_rating[1])\n",
        "print(user_rating[2])\n",
        "print(len(user_rating[1]))\n",
        "print(len(user_rating[2]))\n",
        "\n",
        "for u in user_rating:\n",
        "  for m, r in user_rating[u]:\n",
        "    if u in user_sim:\n",
        "      user_sim[u].append((m, movie_cossim[movie_index[m]])) # user u에 대한 movie m의 추천점수 계산\n",
        "    else:\n",
        "      user_sim[u] = [(m, movie_cossim[movie_index[m]])] # user u에 대한 movie m의 추천점수 계산\n",
        "print(len(user_sim[1]))\n",
        "print(len(user_sim[2]))\n",
        "\n"
      ],
      "metadata": {
        "colab": {
          "base_uri": "https://localhost:8080/"
        },
        "id": "0VMx1G2yq3uu",
        "outputId": "e2d2b9d4-8d51-4b60-e68e-dea2d4765add"
      },
      "execution_count": 79,
      "outputs": [
        {
          "output_type": "stream",
          "name": "stdout",
          "text": [
            "[(31, 2.5), (1029, 3.0), (1061, 3.0), (1129, 2.0), (1172, 4.0), (1263, 2.0), (1287, 2.0), (1293, 2.0), (1339, 3.5), (1343, 2.0), (1371, 2.5), (1405, 1.0), (1953, 4.0), (2105, 4.0), (2150, 3.0), (2193, 2.0), (2294, 2.0), (2455, 2.5), (2968, 1.0), (3671, 3.0)]\n",
            "[(10, 4.0), (17, 5.0), (39, 5.0), (47, 4.0), (50, 4.0), (52, 3.0), (62, 3.0), (110, 4.0), (144, 3.0), (150, 5.0), (153, 4.0), (161, 3.0), (165, 3.0), (168, 3.0), (185, 3.0), (186, 3.0), (208, 3.0), (222, 5.0), (223, 1.0), (225, 3.0), (235, 3.0), (248, 3.0), (253, 4.0), (261, 4.0), (265, 5.0), (266, 5.0), (272, 3.0), (273, 4.0), (292, 3.0), (296, 4.0), (300, 3.0), (314, 4.0), (317, 2.0), (319, 1.0), (339, 3.0), (349, 4.0), (350, 4.0), (356, 3.0), (357, 3.0), (364, 3.0), (367, 3.0), (370, 2.0), (371, 3.0), (372, 3.0), (377, 3.0), (382, 3.0), (405, 2.0), (410, 3.0), (454, 4.0), (457, 3.0), (468, 4.0), (474, 2.0), (480, 4.0), (485, 3.0), (497, 3.0), (500, 4.0), (508, 4.0), (509, 4.0), (515, 4.0), (527, 4.0), (537, 4.0), (539, 3.0), (550, 3.0), (551, 5.0), (552, 3.0), (585, 5.0), (586, 3.0), (587, 3.0), (588, 3.0), (589, 5.0), (590, 5.0), (592, 5.0), (593, 3.0), (616, 3.0), (661, 4.0), (720, 4.0)]\n",
            "20\n",
            "76\n",
            "20\n",
            "76\n"
          ]
        }
      ]
    },
    {
      "cell_type": "code",
      "source": [
        "# 영화에 대한 추정 점수 계산\n",
        "item_based_recommender_score = {}\n",
        "for u in user_set:\n",
        "  user_sim_mat, user_rating_mat = [], []\n",
        "  for m, r in user_rating[u]:\n",
        "    user_rating_mat.append(r)\n",
        "  for m, sim in user_sim[u]:\n",
        "    user_sim_mat.append(sim)\n",
        "  sim_sum = np.sum(np.array(user_sim_mat), axis=0)\n",
        "  item_based_recommender_score[u] = np.matmul(np.array(user_sim_mat).T, np.array(user_rating_mat)) / (sim_sum + 1) # 공식 이용\n",
        "print(len(item_based_recommender_score))\n",
        "print(item_based_recommender_score[1].shape)"
      ],
      "metadata": {
        "colab": {
          "base_uri": "https://localhost:8080/"
        },
        "id": "JIRLH8J2Gi73",
        "outputId": "78e6799c-226f-4649-989b-93f13d550e8e"
      },
      "execution_count": 80,
      "outputs": [
        {
          "output_type": "stream",
          "name": "stdout",
          "text": [
            "547\n",
            "(7357,)\n"
          ]
        }
      ]
    },
    {
      "cell_type": "markdown",
      "source": [
        "### 계산한 추천 점수와 rating.val의 RMSE 계산"
      ],
      "metadata": {
        "id": "QvKX8IVR4iGe"
      }
    },
    {
      "cell_type": "code",
      "source": [
        "vd = pd.read_csv(\"./data/ratings_val.csv\")\n",
        "user_val = vd[\"userId\"]\n",
        "movie_val = vd[\"movieId\"]\n",
        "rating_val = vd[\"rating\"]\n",
        "\n",
        "val_user_rating = {}\n",
        "for u, m, r in zip(user_val, movie_val, rating_val):\n",
        "  if u in val_user_rating:\n",
        "    val_user_rating[u].append((m, r))\n",
        "  else:\n",
        "    val_user_rating[u] = [(m, r)]\n",
        "\n",
        "item_based_rmse = {}\n",
        "for u in set(user_val):\n",
        "  if u not in item_based_recommender_score: # user가 rating_val에는 있고 rating_train에 없으면 continue, 계산 제외\n",
        "    continue\n",
        "  else:\n",
        "    diff, n = 0, 0\n",
        "    for m, r in val_user_rating[u]:\n",
        "      if m not in movie_index: # movie가 rating_val에는 있고 rating_train에 없으면 continue, 계산 제외\n",
        "        continue\n",
        "      else:\n",
        "        diff += math.pow((r - item_based_recommender_score[u][movie_index[m]]), 2) \n",
        "        n += 1\n",
        "    if diff == 0: # movie가 rating_val에는 있고 rating_train에 없으면 continue, 계산 제외\n",
        "      continue\n",
        "    else:\n",
        "      item_based_rmse[u] = math.sqrt((diff / n))\n",
        "\n",
        "print(\"userID 73의 item-based 기법 RMSE: \", item_based_rmse[73])"
      ],
      "metadata": {
        "colab": {
          "base_uri": "https://localhost:8080/"
        },
        "id": "PhHnWD-jH1wQ",
        "outputId": "73c0bab4-1294-4ab9-af4a-8a70085a14d7"
      },
      "execution_count": 81,
      "outputs": [
        {
          "output_type": "stream",
          "name": "stdout",
          "text": [
            "userID 73의 item-based 기법 RMSE:  0.7322648432687335\n"
          ]
        }
      ]
    },
    {
      "cell_type": "markdown",
      "source": [
        "# Task 2) Matrix Factorization"
      ],
      "metadata": {
        "id": "91QpVCp_Ic9s"
      }
    },
    {
      "cell_type": "markdown",
      "source": [
        "### Rating 점수를 이용하여 Item-User Sparse Matrix 생성\n",
        "### Item-User Sparse Matrix의 빈 자리 채우기"
      ],
      "metadata": {
        "id": "Ec36zGkM3_p4"
      }
    },
    {
      "cell_type": "code",
      "source": [
        "# 각 movie의 평균 평점 계산\n",
        "movie_rating_li = {}\n",
        "movie_avg_rating = {}\n",
        "for m, r in zip(movie, rating):\n",
        "  if m in movie_rating_li:\n",
        "    movie_rating_li[m].append(r)\n",
        "  else:\n",
        "    movie_rating_li[m] = [r]\n",
        "\n",
        "for m in movie_rating_li:\n",
        "  rating_li = movie_rating_li[m]\n",
        "  movie_avg_rating[m] = (sum(rating_li)/len(rating_li))\n",
        "\n",
        "\n",
        "# item-user sparse matrix 빈 자리 채우면서 생성\n",
        "iu_sparse_mat_with_avg = []\n",
        "for m in movie_set:\n",
        "  tmp = []\n",
        "  rated_user = d[d[\"movieId\"]==m]\n",
        "  rated_user_set = set(rated_user[\"userId\"])\n",
        "  for u in range(1, max(user_set)+1):\n",
        "    if u in rated_user_set:\n",
        "      tmp.append(rated_user[rated_user[\"userId\"]==u][\"rating\"].item())\n",
        "    else:\n",
        "      tmp.append(movie_avg_rating[m]) # 평균으로 대체\n",
        "  iu_sparse_mat_with_avg.append(tmp)\n",
        "iu_sparse_mat_with_avg = np.array(iu_sparse_mat_with_avg)\n",
        "print(iu_sparse_mat_with_avg.shape)\n"
      ],
      "metadata": {
        "id": "fyfKZe4kIh1h",
        "colab": {
          "base_uri": "https://localhost:8080/"
        },
        "outputId": "512bad3c-8007-49fe-9672-e838d1926925"
      },
      "execution_count": 82,
      "outputs": [
        {
          "output_type": "stream",
          "name": "stdout",
          "text": [
            "(7357, 671)\n"
          ]
        }
      ]
    },
    {
      "cell_type": "markdown",
      "source": [
        "### Decomposing the rating matrix"
      ],
      "metadata": {
        "id": "Ec_jrNdg3rdx"
      }
    },
    {
      "cell_type": "code",
      "source": [
        "U, s, Vt = np.linalg.svd(iu_sparse_mat_with_avg, full_matrices=False)\n",
        "print(U.shape, s.shape, Vt.shape)\n",
        "\n",
        "# Singular value 중 가장 큰 K = 400개만 사용\n",
        "k = 400\n",
        "Uk = U[:,:k]\n",
        "sk = np.diag(s[:k]) # 대각 행렬로 만들어줌\n",
        "Vtk = Vt[:k,:]\n",
        "print(Uk.shape, sk.shape, Vtk.shape)"
      ],
      "metadata": {
        "colab": {
          "base_uri": "https://localhost:8080/"
        },
        "id": "lRD85EGPDwb9",
        "outputId": "40cd33c6-3a91-49c0-8778-295cbe11275d"
      },
      "execution_count": 83,
      "outputs": [
        {
          "output_type": "stream",
          "name": "stdout",
          "text": [
            "(7357, 671) (671,) (671, 671)\n",
            "(7357, 400) (400, 400) (400, 671)\n"
          ]
        }
      ]
    },
    {
      "cell_type": "markdown",
      "source": [
        "### 추천 점수 계산"
      ],
      "metadata": {
        "id": "C75q78jh3w1T"
      }
    },
    {
      "cell_type": "code",
      "source": [
        "Uksk = np.matmul(Uk, sk)\n",
        "matfac_recommend_score = np.matmul(Uksk, Vtk)\n",
        "print(matfac_recommend_score.shape)"
      ],
      "metadata": {
        "id": "PoAR1Zb23zj3",
        "colab": {
          "base_uri": "https://localhost:8080/"
        },
        "outputId": "0bb2cb6a-74e8-4f7d-f850-77d15635b134"
      },
      "execution_count": 84,
      "outputs": [
        {
          "output_type": "stream",
          "name": "stdout",
          "text": [
            "(7357, 671)\n"
          ]
        }
      ]
    },
    {
      "cell_type": "markdown",
      "source": [
        "### 계산한 추천 점수롸 \"rating_val.csv\"의 RMSE 계산"
      ],
      "metadata": {
        "id": "RmLix3xM33eQ"
      }
    },
    {
      "cell_type": "code",
      "source": [
        "# matrix factorization 기반 RMSE 측정\n",
        "user_val_set = set(user_val) # user가 rating_val에는 있고 rating_train에 없으면 continue, 계산 제외\n",
        "\n",
        "matfac_rmse = {}\n",
        "for u in val_user_rating:\n",
        "  if u not in user_val_set:\n",
        "    continue\n",
        "  else:\n",
        "    diff, n = 0, 0\n",
        "    for m, r in val_user_rating[u]:\n",
        "      if m not in movie_set: # movie가 rating_val에는 있고 rating_train에 없으면 continue, 계산 제외\n",
        "        continue\n",
        "      else:\n",
        "        diff += math.pow((r - matfac_recommend_score[movie_index[m]][u - 1]), 2)\n",
        "        n += 1\n",
        "    if diff == 0: # movie가 rating_val에는 있고 rating_train에 없으면 continue, 계산 제외\n",
        "      continue\n",
        "    else:\n",
        "      rmse = math.sqrt(diff / n)\n",
        "      matfac_rmse[u] = rmse\n",
        "print(\"userID 73의 matrix factorization 기법 RMSE: \", matfac_rmse[73])\n"
      ],
      "metadata": {
        "colab": {
          "base_uri": "https://localhost:8080/"
        },
        "id": "ObtgsftX0PRt",
        "outputId": "a8fef12f-15a7-417b-be13-271d36ea3e74"
      },
      "execution_count": 85,
      "outputs": [
        {
          "output_type": "stream",
          "name": "stdout",
          "text": [
            "userID 73의 matrix factorization 기법 RMSE:  0.7854786063906751\n"
          ]
        }
      ]
    },
    {
      "cell_type": "markdown",
      "source": [
        "# Task 3) Optimization"
      ],
      "metadata": {
        "id": "-Ip1CQc5IiI7"
      }
    },
    {
      "cell_type": "code",
      "source": [
        "# 평균으로 대체하지 말고 평균보다 좀 더 적게 weight를 곱해서 해보자\n",
        "# k = 100, 200, 300, 500로 테스트해보자\n",
        "\n",
        "# 각 movie의 평균 평점 계산\n",
        "w_movie_rating_li = {}\n",
        "w_movie_avg_rating = {}\n",
        "for m, r in zip(movie, rating):\n",
        "  if m in w_movie_rating_li:\n",
        "    w_movie_rating_li[m].append(r)\n",
        "  else:\n",
        "    w_movie_rating_li[m] = [r]\n",
        "\n",
        "for m in w_movie_rating_li:\n",
        "  w_rating_li = w_movie_rating_li[m]\n",
        "  w_movie_avg_rating[m] = (sum(w_rating_li)/len(w_rating_li))\n",
        "\n",
        "\n",
        "# item-user sparse matrix 빈 자리 채우면서 생성\n",
        "iu_sparse_mat_with_w_avg = []\n",
        "for m in movie_set:\n",
        "  tmp = []\n",
        "  rated_user = d[d[\"movieId\"]==m]\n",
        "  rated_user_set = set(rated_user[\"userId\"])\n",
        "  # print(rated_user_set)\n",
        "  for u in range(1, max(user_set)+1):\n",
        "    if u in rated_user_set:\n",
        "      tmp.append(rated_user[rated_user[\"userId\"]==u][\"rating\"].item())\n",
        "    else:\n",
        "      tmp.append(w_movie_avg_rating[m]) # 평균으로 대체\n",
        "  iu_sparse_mat_with_w_avg.append(tmp)\n",
        "iu_sparse_mat_with_w_avg = np.array(iu_sparse_mat_with_w_avg)\n",
        "print(iu_sparse_mat_with_avg.shape)\n",
        "\n",
        "wU, ws, wVt = np.linalg.svd(iu_sparse_mat_with_w_avg, full_matrices=False)\n",
        "\n",
        "# K 변화\n",
        "k = 100 # 50, 100, 200, 300\n",
        "Uk_opt = wU[:,:k]\n",
        "sk_opt = np.diag(ws[:k]) # 대각 행렬로 만들어줌\n",
        "Vtk_opt = wVt[:k,:]\n",
        "\n",
        "wUksk = np.matmul(Uk_opt, sk_opt)\n",
        "optimized_recommend_score = np.matmul(wUksk, Vtk_opt)\n",
        "\n",
        "# optimized 기반 RMSE 측정\n",
        "user_val_set = set(user_val) # user가 rating_val에는 있고 rating_train에 없으면 continue, 계산 제외\n",
        "\n",
        "optimized_rmse = {}\n",
        "for u in val_user_rating:\n",
        "  if u not in user_val_set:\n",
        "    continue\n",
        "  else:\n",
        "    diff, n = 0, 0\n",
        "    for m, r in val_user_rating[u]:\n",
        "      if m not in movie_set: # movie가 rating_val에는 있고 rating_train에 없으면 continue, 계산 제외\n",
        "        continue\n",
        "      else:\n",
        "        diff += math.pow((r - optimized_recommend_score[movie_index[m]][u - 1]), 2)\n",
        "        n += 1\n",
        "    if diff == 0: # movie가 rating_val에는 있고 rating_train에 없으면 continue, 계산 제외\n",
        "      continue\n",
        "    else:\n",
        "      rmse = math.sqrt(diff / n)\n",
        "      optimized_rmse[u] = rmse\n",
        "\n",
        "print(\"userID 73의 optimized 기법 RMSE: \", optimized_rmse[73])\n"
      ],
      "metadata": {
        "id": "WWzbosSMIkmJ",
        "colab": {
          "base_uri": "https://localhost:8080/"
        },
        "outputId": "8245379f-329c-41d7-8225-febc1e035dbc"
      },
      "execution_count": 86,
      "outputs": [
        {
          "output_type": "stream",
          "name": "stdout",
          "text": [
            "(7357, 671)\n",
            "userID 73의 optimized 기법 RMSE:  0.7846175249981066\n"
          ]
        }
      ]
    },
    {
      "cell_type": "code",
      "source": [
        "total_matfac_rmse, total_optimized_rmse = 0, 0\n",
        "for u in matfac_rmse:\n",
        "  total_matfac_rmse += matfac_rmse[u]\n",
        "  \n",
        "for u in optimized_rmse:\n",
        "  total_optimized_rmse += optimized_rmse[u]\n",
        "\n",
        "print(\"optimized based RMSE : \", total_optimized_rmse/len(matfac_rmse))\n",
        "print(\"matrix factorization based RMSE : \", total_matfac_rmse/len(optimized_rmse))"
      ],
      "metadata": {
        "colab": {
          "base_uri": "https://localhost:8080/"
        },
        "id": "t4PkqtEaZzv9",
        "outputId": "2b9fd362-9565-4e3f-af28-97d47cf4a8e4"
      },
      "execution_count": 87,
      "outputs": [
        {
          "output_type": "stream",
          "name": "stdout",
          "text": [
            "optimized based RMSE :  0.9519133010920591\n",
            "matrix factorization based RMSE :  0.9527140378742626\n"
          ]
        }
      ]
    },
    {
      "cell_type": "markdown",
      "source": [
        "# Output 파일 추출"
      ],
      "metadata": {
        "id": "sGMlTFwt41-C"
      }
    },
    {
      "cell_type": "code",
      "source": [
        "# read input.txt \n",
        "def read_user_id():\n",
        "    with open('input.txt', 'r') as f:\n",
        "        user_ids = [list(l.split(',')) for l in f.readlines()]\n",
        "        user_movie = []\n",
        "        for u, m in user_ids:\n",
        "          user_movie.append([int(u), int(m)])\n",
        "        return user_movie"
      ],
      "metadata": {
        "id": "8VMm02ZW48DG"
      },
      "execution_count": 88,
      "outputs": []
    },
    {
      "cell_type": "code",
      "source": [
        "# write to output file output.txt\n",
        "def write_output(prediction):\n",
        "    with open('output.txt', 'w') as f:\n",
        "        for u, m in prediction:\n",
        "            f.write(str(u) + ',' + str(m) + ',' + '{:.4f}'.format(round(prediction[(u, m)][0], 4)) + \"\\n\")\n",
        "            f.write(str(u) + ',' + str(m) + ',' + '{:.4f}'.format(round(prediction[(u, m)][1], 4)) + \"\\n\")\n",
        "            f.write(str(u) + ',' + str(m) + ',' + '{:.4f}'.format(round(prediction[(u, m)][2], 4)) + \"\\n\")"
      ],
      "metadata": {
        "id": "b4UUYK_N4_Z6"
      },
      "execution_count": 89,
      "outputs": []
    },
    {
      "cell_type": "code",
      "source": [
        "def do(ids):\n",
        "    prediction = {}\n",
        "    for u, m in ids:\n",
        "        item_based_score = item_based_recommender_score[u][movie_index[m]]\n",
        "        matfac_score = matfac_recommend_score[movie_index[m]][u - 1]\n",
        "        optimized_score = optimized_recommend_score[movie_index[m]][u - 1]\n",
        "        prediction[(u, m)] = [item_based_score, matfac_score, optimized_score]\n",
        "          \n",
        "    print(prediction)\n",
        "    return prediction"
      ],
      "metadata": {
        "id": "sisUP3ta5AtY"
      },
      "execution_count": 90,
      "outputs": []
    },
    {
      "cell_type": "code",
      "source": [
        "user_ids = read_user_id()\n",
        "print(user_ids)\n",
        "\n",
        "#### TODO: replace with your implementation ####\n",
        "result = do(user_ids)\n",
        "print(result)\n",
        "# #### TODO end ####\n",
        "write_output(result)"
      ],
      "metadata": {
        "colab": {
          "base_uri": "https://localhost:8080/"
        },
        "id": "wj59Z5sr5CQO",
        "outputId": "ee6c0807-e5e9-4741-dd9a-8171ebe0e2f5"
      },
      "execution_count": 91,
      "outputs": [
        {
          "output_type": "stream",
          "name": "stdout",
          "text": [
            "[[1, 31], [2, 10], [3, 1235], [4, 10]]\n",
            "{(1, 31): [1.8642451221205858, 2.4925056638276373, 3.161811060374272], (2, 10): [3.3855568366121793, 4.069587599108663, 3.567260434928069], (3, 1235): [3.3529568019107816, 3.8405112000937374, 3.6108746042864137], (4, 10): [4.274017935907572, 4.02104481622596, 3.8921667071878887]}\n",
            "{(1, 31): [1.8642451221205858, 2.4925056638276373, 3.161811060374272], (2, 10): [3.3855568366121793, 4.069587599108663, 3.567260434928069], (3, 1235): [3.3529568019107816, 3.8405112000937374, 3.6108746042864137], (4, 10): [4.274017935907572, 4.02104481622596, 3.8921667071878887]}\n"
          ]
        }
      ]
    }
  ]
}